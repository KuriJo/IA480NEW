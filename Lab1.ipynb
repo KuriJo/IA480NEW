{
 "cells": [
  {
   "cell_type": "code",
   "execution_count": 2,
   "id": "21a78461-0627-487f-a50b-a60b5fbc21b5",
   "metadata": {
    "tags": []
   },
   "outputs": [
    {
     "name": "stdout",
     "output_type": "stream",
     "text": [
      "hello world\n"
     ]
    }
   ],
   "source": [
    "print ('hello world')"
   ]
  },
  {
   "cell_type": "code",
   "execution_count": 2,
   "id": "8f6371ac-d0c9-4c45-a870-69c1da812eb5",
   "metadata": {
    "tags": []
   },
   "outputs": [
    {
     "name": "stdout",
     "output_type": "stream",
     "text": [
      "hello world two\n"
     ]
    }
   ],
   "source": [
    "print ('hello world two')"
   ]
  },
  {
   "cell_type": "code",
   "execution_count": null,
   "id": "b8ffc757-f7da-4f45-9e5f-8283772dbae8",
   "metadata": {},
   "outputs": [],
   "source": []
  }
 ],
 "metadata": {
  "kernelspec": {
   "display_name": "conda_pytorch_p310",
   "language": "python",
   "name": "conda_pytorch_p310"
  },
  "language_info": {
   "codemirror_mode": {
    "name": "ipython",
    "version": 3
   },
   "file_extension": ".py",
   "mimetype": "text/x-python",
   "name": "python",
   "nbconvert_exporter": "python",
   "pygments_lexer": "ipython3",
   "version": "3.10.14"
  }
 },
 "nbformat": 4,
 "nbformat_minor": 5
}
